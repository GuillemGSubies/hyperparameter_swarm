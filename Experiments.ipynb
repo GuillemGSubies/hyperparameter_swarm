{
 "cells": [
  {
   "cell_type": "code",
   "execution_count": 1,
   "metadata": {},
   "outputs": [],
   "source": [
    "from sklearn.datasets import make_classification\n",
    "X, y = make_classification(n_samples=1000, n_features=20, n_classes=8, n_informative=4, n_clusters_per_class=1, flip_y=0.1, random_state=42)"
   ]
  },
  {
   "cell_type": "code",
   "execution_count": 2,
   "metadata": {},
   "outputs": [],
   "source": [
    "from sklearn.model_selection import train_test_split\n",
    "X_train, X_test, y_train, y_test = train_test_split(X, y, test_size=0.33, random_state=42)"
   ]
  },
  {
   "cell_type": "code",
   "execution_count": 3,
   "metadata": {},
   "outputs": [],
   "source": [
    "from sklearn.ensemble import RandomForestClassifier"
   ]
  },
  {
   "cell_type": "markdown",
   "metadata": {},
   "source": [
    "### Normal Random Forest"
   ]
  },
  {
   "cell_type": "code",
   "execution_count": 4,
   "metadata": {},
   "outputs": [
    {
     "data": {
      "text/plain": [
       "0.6433595829865271"
      ]
     },
     "execution_count": 4,
     "metadata": {},
     "output_type": "execute_result"
    }
   ],
   "source": [
    "rfc = RandomForestClassifier(n_jobs=-1, random_state=42)\n",
    "rfc.fit(X_train, y_train)\n",
    "from sklearn.metrics import f1_score\n",
    "f1_score(y_test, rfc.predict(X_test), average=\"macro\")"
   ]
  },
  {
   "cell_type": "markdown",
   "metadata": {},
   "source": [
    "### PS Optimized"
   ]
  },
  {
   "cell_type": "code",
   "execution_count": 5,
   "metadata": {},
   "outputs": [],
   "source": [
    "X_train_, X_valid, y_train_, y_valid = train_test_split(X_train, y_train, test_size=0.33, random_state=42)"
   ]
  },
  {
   "cell_type": "code",
   "execution_count": 6,
   "metadata": {
    "scrolled": true
   },
   "outputs": [
    {
     "data": {
      "text/plain": [
       "0.6590776870053444"
      ]
     },
     "execution_count": 6,
     "metadata": {},
     "output_type": "execute_result"
    }
   ],
   "source": [
    "from PSO import PSO\n",
    "params = {\n",
    "        \"n_estimators\": (10, 500),\n",
    "        \"min_samples_split\": (2, 16),\n",
    "        \"min_samples_leaf\": (1, 10),\n",
    "        \"max_features\": (0.01, 0.99),\n",
    "    }\n",
    "model, parameters, score = PSO(\n",
    "    RandomForestClassifier,\n",
    "    params,\n",
    "    X_train_,\n",
    "    y_train_,\n",
    "    X_valid,\n",
    "    y_valid,\n",
    "    n_iter=50,\n",
    "    n_particles=5,\n",
    "    n_jobs=-1,\n",
    "    random_state=42,\n",
    ")()\n",
    "f1_score(y_test, model.predict(X_test), average=\"macro\")"
   ]
  },
  {
   "cell_type": "markdown",
   "metadata": {},
   "source": [
    "#### Times"
   ]
  },
  {
   "cell_type": "code",
   "execution_count": 7,
   "metadata": {},
   "outputs": [],
   "source": [
    "from PSO import PSO\n",
    "params = {\n",
    "        \"n_estimators\": (10, 500),\n",
    "        \"min_samples_split\": (2, 16),\n",
    "        \"min_samples_leaf\": (1, 10),\n",
    "        \"max_features\": (0.01, 0.99),\n",
    "    }\n",
    "pso = PSO(\n",
    "    RandomForestClassifier,\n",
    "    params,\n",
    "    X_train_,\n",
    "    y_train_,\n",
    "    X_valid,\n",
    "    y_valid,\n",
    "    n_iter=50,\n",
    "    n_particles=5,\n",
    "    n_jobs=-1,\n",
    "    random_state=42,\n",
    ")"
   ]
  },
  {
   "cell_type": "code",
   "execution_count": 8,
   "metadata": {},
   "outputs": [
    {
     "name": "stdout",
     "output_type": "stream",
     "text": [
      "CPU times: user 4min 9s, sys: 22.1 s, total: 4min 31s\n",
      "Wall time: 2min 3s\n"
     ]
    },
    {
     "data": {
      "text/plain": [
       "(RandomForestClassifier(max_features=0.41547770845826437, n_estimators=230,\n",
       "                        n_jobs=-1, random_state=42),\n",
       " {'n_estimators': 230,\n",
       "  'min_samples_split': 2,\n",
       "  'min_samples_leaf': 1,\n",
       "  'max_features': 0.41547770845826437},\n",
       " 0.6765567842596312)"
      ]
     },
     "execution_count": 8,
     "metadata": {},
     "output_type": "execute_result"
    }
   ],
   "source": [
    "%%time\n",
    "pso()"
   ]
  },
  {
   "cell_type": "markdown",
   "metadata": {},
   "source": [
    "### RandomizedSearchCV"
   ]
  },
  {
   "cell_type": "markdown",
   "metadata": {},
   "source": [
    "50 iter"
   ]
  },
  {
   "cell_type": "code",
   "execution_count": 9,
   "metadata": {},
   "outputs": [
    {
     "data": {
      "text/plain": [
       "0.6491559675364309"
      ]
     },
     "execution_count": 9,
     "metadata": {},
     "output_type": "execute_result"
    }
   ],
   "source": [
    "from scipy.stats import uniform, randint\n",
    "from sklearn.model_selection import RandomizedSearchCV\n",
    "\n",
    "params = {\n",
    "        \"n_estimators\": randint(10, 500),\n",
    "        \"min_samples_split\": randint(2, 16),\n",
    "        \"min_samples_leaf\": randint(1, 10),\n",
    "        \"max_features\": uniform(0.01, 0.99),\n",
    "    }\n",
    "\n",
    "clf = RandomizedSearchCV(\n",
    "    RandomForestClassifier(n_jobs=-1, random_state=42),\n",
    "    params,\n",
    "    random_state=42,\n",
    "    n_jobs=-1,\n",
    "    scoring=\"f1_macro\",\n",
    "    cv=3,\n",
    "    n_iter=50,\n",
    ")\n",
    "clf.fit(X_train, y_train)\n",
    "f1_score(y_test, clf.predict(X_test), average=\"macro\")"
   ]
  },
  {
   "cell_type": "markdown",
   "metadata": {},
   "source": [
    "#### Times"
   ]
  },
  {
   "cell_type": "code",
   "execution_count": 10,
   "metadata": {},
   "outputs": [],
   "source": [
    "from scipy.stats import uniform, randint\n",
    "from sklearn.model_selection import RandomizedSearchCV\n",
    "\n",
    "params = {\n",
    "        \"n_estimators\": randint(10, 500),\n",
    "        \"min_samples_split\": randint(2, 16),\n",
    "        \"min_samples_leaf\": randint(1, 10),\n",
    "        \"max_features\": uniform(0.01, 0.99),\n",
    "    }\n",
    "\n",
    "clf = RandomizedSearchCV(\n",
    "    RandomForestClassifier(n_jobs=-1, random_state=42),\n",
    "    params,\n",
    "    random_state=42,\n",
    "    n_jobs=-1,\n",
    "    scoring=\"f1_macro\",\n",
    "    cv=3,\n",
    "    n_iter=50,\n",
    ")"
   ]
  },
  {
   "cell_type": "code",
   "execution_count": 11,
   "metadata": {},
   "outputs": [
    {
     "name": "stdout",
     "output_type": "stream",
     "text": [
      "CPU times: user 2.01 s, sys: 146 ms, total: 2.16 s\n",
      "Wall time: 32.6 s\n"
     ]
    },
    {
     "data": {
      "text/plain": [
       "RandomizedSearchCV(cv=3,\n",
       "                   estimator=RandomForestClassifier(n_jobs=-1, random_state=42),\n",
       "                   n_iter=50, n_jobs=-1,\n",
       "                   param_distributions={'max_features': <scipy.stats._distn_infrastructure.rv_frozen object at 0x7f055c129580>,\n",
       "                                        'min_samples_leaf': <scipy.stats._distn_infrastructure.rv_frozen object at 0x7f055c129af0>,\n",
       "                                        'min_samples_split': <scipy.stats._distn_infrastructure.rv_frozen object at 0x7f055c926040>,\n",
       "                                        'n_estimators': <scipy.stats._distn_infrastructure.rv_frozen object at 0x7f055c926a90>},\n",
       "                   random_state=42, scoring='f1_macro')"
      ]
     },
     "execution_count": 11,
     "metadata": {},
     "output_type": "execute_result"
    }
   ],
   "source": [
    "%%time\n",
    "clf.fit(X_train, y_train)"
   ]
  },
  {
   "cell_type": "markdown",
   "metadata": {},
   "source": [
    "250 iter"
   ]
  },
  {
   "cell_type": "code",
   "execution_count": 12,
   "metadata": {},
   "outputs": [
    {
     "data": {
      "text/plain": [
       "0.6549530616325707"
      ]
     },
     "execution_count": 12,
     "metadata": {},
     "output_type": "execute_result"
    }
   ],
   "source": [
    "from scipy.stats import uniform, randint\n",
    "from sklearn.model_selection import RandomizedSearchCV\n",
    "\n",
    "params = {\n",
    "        \"n_estimators\": randint(10, 500),\n",
    "        \"min_samples_split\": randint(2, 16),\n",
    "        \"min_samples_leaf\": randint(1, 10),\n",
    "        \"max_features\": uniform(0.01, 0.99),\n",
    "    }\n",
    "\n",
    "clf = RandomizedSearchCV(\n",
    "    RandomForestClassifier(n_jobs=-1, random_state=42),\n",
    "    params,\n",
    "    random_state=42,\n",
    "    n_jobs=-1,\n",
    "    scoring=\"f1_macro\",\n",
    "    cv=3,\n",
    "    n_iter=250,\n",
    ")\n",
    "clf.fit(X_train, y_train)\n",
    "f1_score(y_test, clf.predict(X_test), average=\"macro\")"
   ]
  },
  {
   "cell_type": "markdown",
   "metadata": {},
   "source": [
    "#### Times"
   ]
  },
  {
   "cell_type": "code",
   "execution_count": 13,
   "metadata": {},
   "outputs": [],
   "source": [
    "from scipy.stats import uniform, randint\n",
    "from sklearn.model_selection import RandomizedSearchCV\n",
    "\n",
    "params = {\n",
    "        \"n_estimators\": randint(10, 500),\n",
    "        \"min_samples_split\": randint(2, 16),\n",
    "        \"min_samples_leaf\": randint(1, 10),\n",
    "        \"max_features\": uniform(0.01, 0.99),\n",
    "    }\n",
    "\n",
    "clf = RandomizedSearchCV(\n",
    "    RandomForestClassifier(n_jobs=-1, random_state=42),\n",
    "    params,\n",
    "    random_state=42,\n",
    "    n_jobs=-1,\n",
    "    scoring=\"f1_macro\",\n",
    "    cv=3,\n",
    "    n_iter=250,\n",
    ")"
   ]
  },
  {
   "cell_type": "code",
   "execution_count": 14,
   "metadata": {},
   "outputs": [
    {
     "name": "stdout",
     "output_type": "stream",
     "text": [
      "CPU times: user 1.97 s, sys: 97.7 ms, total: 2.06 s\n",
      "Wall time: 2min 43s\n"
     ]
    },
    {
     "data": {
      "text/plain": [
       "RandomizedSearchCV(cv=3,\n",
       "                   estimator=RandomForestClassifier(n_jobs=-1, random_state=42),\n",
       "                   n_iter=250, n_jobs=-1,\n",
       "                   param_distributions={'max_features': <scipy.stats._distn_infrastructure.rv_frozen object at 0x7f055c8c4ac0>,\n",
       "                                        'min_samples_leaf': <scipy.stats._distn_infrastructure.rv_frozen object at 0x7f05993ae370>,\n",
       "                                        'min_samples_split': <scipy.stats._distn_infrastructure.rv_frozen object at 0x7f055c8c4a90>,\n",
       "                                        'n_estimators': <scipy.stats._distn_infrastructure.rv_frozen object at 0x7f05993aacd0>},\n",
       "                   random_state=42, scoring='f1_macro')"
      ]
     },
     "execution_count": 14,
     "metadata": {},
     "output_type": "execute_result"
    }
   ],
   "source": [
    "%%time\n",
    "clf.fit(X_train, y_train)"
   ]
  },
  {
   "cell_type": "markdown",
   "metadata": {},
   "source": [
    "### BayesSearchCV"
   ]
  },
  {
   "cell_type": "code",
   "execution_count": 15,
   "metadata": {
    "scrolled": true
   },
   "outputs": [
    {
     "name": "stdout",
     "output_type": "stream",
     "text": [
      "Requirement already satisfied: scikit-optimize in /home/guillem.garcia/.local/lib/python3.8/site-packages (0.8.1)\r\n",
      "Requirement already satisfied: numpy>=1.13.3 in /home/guillem.garcia/.local/lib/python3.8/site-packages (from scikit-optimize) (1.19.2)\r\n",
      "Requirement already satisfied: scipy>=0.19.1 in /home/guillem.garcia/.local/lib/python3.8/site-packages (from scikit-optimize) (1.5.3)\r\n",
      "Requirement already satisfied: joblib>=0.11 in /home/guillem.garcia/.local/lib/python3.8/site-packages (from scikit-optimize) (0.17.0)\r\n",
      "Requirement already satisfied: pyaml>=16.9 in /home/guillem.garcia/.local/lib/python3.8/site-packages (from scikit-optimize) (20.4.0)\r\n",
      "Requirement already satisfied: scikit-learn>=0.20.0 in /home/guillem.garcia/.local/lib/python3.8/site-packages (from scikit-optimize) (0.23.2)\r\n",
      "Requirement already satisfied: PyYAML in /usr/lib/python3/dist-packages (from pyaml>=16.9->scikit-optimize) (5.3.1)\r\n",
      "Requirement already satisfied: threadpoolctl>=2.0.0 in /home/guillem.garcia/.local/lib/python3.8/site-packages (from scikit-learn>=0.20.0->scikit-optimize) (2.1.0)\r\n"
     ]
    }
   ],
   "source": [
    "!pip3 install scikit-optimize"
   ]
  },
  {
   "cell_type": "code",
   "execution_count": 16,
   "metadata": {},
   "outputs": [
    {
     "data": {
      "text/plain": [
       "0.6580131289120079"
      ]
     },
     "execution_count": 16,
     "metadata": {},
     "output_type": "execute_result"
    }
   ],
   "source": [
    "from skopt import BayesSearchCV\n",
    "from skopt.space import Real, Integer\n",
    "\n",
    "params = {\n",
    "        \"n_estimators\": Integer(10, 500),\n",
    "        \"min_samples_split\": Integer(2, 16),\n",
    "        \"min_samples_leaf\": Integer(1, 10),\n",
    "        \"max_features\": Real(0.01, 0.99, prior=\"uniform\"),\n",
    "    }\n",
    "\n",
    "clf = BayesSearchCV(\n",
    "    RandomForestClassifier(n_jobs=-1, random_state=42),\n",
    "    params,\n",
    "    random_state=42,\n",
    "    n_jobs=-1,\n",
    "    scoring=\"f1_macro\",\n",
    "    cv=3,\n",
    "    n_iter=50,\n",
    ")\n",
    "clf.fit(X_train, y_train)\n",
    "f1_score(y_test, clf.predict(X_test), average=\"macro\")"
   ]
  },
  {
   "cell_type": "markdown",
   "metadata": {},
   "source": [
    "#### Times"
   ]
  },
  {
   "cell_type": "code",
   "execution_count": 17,
   "metadata": {},
   "outputs": [],
   "source": [
    "from skopt import BayesSearchCV\n",
    "from skopt.space import Real, Integer\n",
    "\n",
    "params = {\n",
    "        \"n_estimators\": Integer(10, 500),\n",
    "        \"min_samples_split\": Integer(2, 16),\n",
    "        \"min_samples_leaf\": Integer(1, 10),\n",
    "        \"max_features\": Real(0.01, 0.99, prior=\"uniform\"),\n",
    "    }\n",
    "\n",
    "clf = BayesSearchCV(\n",
    "    RandomForestClassifier(n_jobs=-1, random_state=42),\n",
    "    params,\n",
    "    random_state=42,\n",
    "    n_jobs=-1,\n",
    "    scoring=\"f1_macro\",\n",
    "    cv=3,\n",
    "    n_iter=50,\n",
    ")"
   ]
  },
  {
   "cell_type": "code",
   "execution_count": 18,
   "metadata": {},
   "outputs": [
    {
     "name": "stdout",
     "output_type": "stream",
     "text": [
      "CPU times: user 2min 47s, sys: 6min 15s, total: 9min 3s\n",
      "Wall time: 2min 21s\n"
     ]
    },
    {
     "data": {
      "text/plain": [
       "BayesSearchCV(cv=3,\n",
       "              estimator=RandomForestClassifier(n_jobs=-1, random_state=42),\n",
       "              n_jobs=-1, random_state=42, scoring='f1_macro',\n",
       "              search_spaces={'max_features': Real(low=0.01, high=0.99, prior='uniform', transform='identity'),\n",
       "                             'min_samples_leaf': Integer(low=1, high=10, prior='uniform', transform='identity'),\n",
       "                             'min_samples_split': Integer(low=2, high=16, prior='uniform', transform='identity'),\n",
       "                             'n_estimators': Integer(low=10, high=500, prior='uniform', transform='identity')})"
      ]
     },
     "execution_count": 18,
     "metadata": {},
     "output_type": "execute_result"
    }
   ],
   "source": [
    "%%time\n",
    "clf.fit(X_train, y_train)"
   ]
  }
 ],
 "metadata": {
  "kernelspec": {
   "display_name": "Python 3",
   "language": "python",
   "name": "python3"
  },
  "language_info": {
   "codemirror_mode": {
    "name": "ipython",
    "version": 3
   },
   "file_extension": ".py",
   "mimetype": "text/x-python",
   "name": "python",
   "nbconvert_exporter": "python",
   "pygments_lexer": "ipython3",
   "version": "3.8.5"
  }
 },
 "nbformat": 4,
 "nbformat_minor": 4
}
